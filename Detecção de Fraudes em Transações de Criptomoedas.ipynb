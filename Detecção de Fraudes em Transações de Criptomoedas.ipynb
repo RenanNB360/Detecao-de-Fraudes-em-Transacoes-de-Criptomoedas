{
 "cells": [
  {
   "cell_type": "markdown",
   "id": "edfeefaa-02a4-4931-a85b-ca0a05382b8c",
   "metadata": {},
   "source": [
    "# Importações"
   ]
  },
  {
   "cell_type": "code",
   "execution_count": 1,
   "id": "547e55cb-b58e-4b88-9b57-22882aba0768",
   "metadata": {},
   "outputs": [
    {
     "name": "stdout",
     "output_type": "stream",
     "text": [
      "env: TF_CPP_MIN_LOG_LEVEL=3\n"
     ]
    }
   ],
   "source": [
    "%env TF_CPP_MIN_LOG_LEVEL=3"
   ]
  },
  {
   "cell_type": "code",
   "execution_count": 2,
   "id": "22915c1c-6d71-4dcf-8490-fb49bd798de2",
   "metadata": {},
   "outputs": [],
   "source": [
    "import sklearn\n",
    "import numpy as np\n",
    "import pandas as pd\n",
    "import matplotlib.pyplot as plt\n",
    "import tensorflow as tf\n",
    "from keras.utils import to_categorical\n",
    "from keras.models import Sequential\n",
    "from keras.layers import Dense\n",
    "from keras import Input\n",
    "from sklearn.model_selection import train_test_split\n",
    "from sklearn.pipeline import Pipeline\n",
    "from sklearn.base import BaseEstimator, TransformerMixin\n",
    "from sklearn.preprocessing import StandardScaler\n",
    "from sklearn import metrics\n",
    "import warnings\n",
    "warnings.filterwarnings('ignore')"
   ]
  },
  {
   "cell_type": "markdown",
   "id": "7591acd1-524c-459a-b774-2182d75e5342",
   "metadata": {},
   "source": [
    "# Carregando e Compreendendo os Dados"
   ]
  },
  {
   "cell_type": "code",
   "execution_count": 3,
   "id": "a4d6741e-57e3-471a-b57b-8fab5959cac9",
   "metadata": {},
   "outputs": [
    {
     "data": {
      "text/html": [
       "<div>\n",
       "<style scoped>\n",
       "    .dataframe tbody tr th:only-of-type {\n",
       "        vertical-align: middle;\n",
       "    }\n",
       "\n",
       "    .dataframe tbody tr th {\n",
       "        vertical-align: top;\n",
       "    }\n",
       "\n",
       "    .dataframe thead th {\n",
       "        text-align: right;\n",
       "    }\n",
       "</style>\n",
       "<table border=\"1\" class=\"dataframe\">\n",
       "  <thead>\n",
       "    <tr style=\"text-align: right;\">\n",
       "      <th></th>\n",
       "      <th>Unnamed: 0</th>\n",
       "      <th>Index</th>\n",
       "      <th>Address</th>\n",
       "      <th>FLAG</th>\n",
       "      <th>Avg min between sent tnx</th>\n",
       "      <th>Avg min between received tnx</th>\n",
       "      <th>Time Diff between first and last (Mins)</th>\n",
       "      <th>Sent tnx</th>\n",
       "      <th>Received Tnx</th>\n",
       "      <th>Number of Created Contracts</th>\n",
       "      <th>...</th>\n",
       "      <th>ERC20 min val sent</th>\n",
       "      <th>ERC20 max val sent</th>\n",
       "      <th>ERC20 avg val sent</th>\n",
       "      <th>ERC20 min val sent contract</th>\n",
       "      <th>ERC20 max val sent contract</th>\n",
       "      <th>ERC20 avg val sent contract</th>\n",
       "      <th>ERC20 uniq sent token name</th>\n",
       "      <th>ERC20 uniq rec token name</th>\n",
       "      <th>ERC20 most sent token type</th>\n",
       "      <th>ERC20_most_rec_token_type</th>\n",
       "    </tr>\n",
       "  </thead>\n",
       "  <tbody>\n",
       "    <tr>\n",
       "      <th>0</th>\n",
       "      <td>0</td>\n",
       "      <td>1</td>\n",
       "      <td>0x00009277775ac7d0d59eaad8fee3d10ac6c805e8</td>\n",
       "      <td>0</td>\n",
       "      <td>844.26</td>\n",
       "      <td>1093.71</td>\n",
       "      <td>704785.63</td>\n",
       "      <td>721</td>\n",
       "      <td>89</td>\n",
       "      <td>0</td>\n",
       "      <td>...</td>\n",
       "      <td>0.000000</td>\n",
       "      <td>1.683100e+07</td>\n",
       "      <td>271779.920000</td>\n",
       "      <td>0.0</td>\n",
       "      <td>0.0</td>\n",
       "      <td>0.0</td>\n",
       "      <td>39.0</td>\n",
       "      <td>57.0</td>\n",
       "      <td>Cofoundit</td>\n",
       "      <td>Numeraire</td>\n",
       "    </tr>\n",
       "    <tr>\n",
       "      <th>1</th>\n",
       "      <td>1</td>\n",
       "      <td>2</td>\n",
       "      <td>0x0002b44ddb1476db43c868bd494422ee4c136fed</td>\n",
       "      <td>0</td>\n",
       "      <td>12709.07</td>\n",
       "      <td>2958.44</td>\n",
       "      <td>1218216.73</td>\n",
       "      <td>94</td>\n",
       "      <td>8</td>\n",
       "      <td>0</td>\n",
       "      <td>...</td>\n",
       "      <td>2.260809</td>\n",
       "      <td>2.260809e+00</td>\n",
       "      <td>2.260809</td>\n",
       "      <td>0.0</td>\n",
       "      <td>0.0</td>\n",
       "      <td>0.0</td>\n",
       "      <td>1.0</td>\n",
       "      <td>7.0</td>\n",
       "      <td>Livepeer Token</td>\n",
       "      <td>Livepeer Token</td>\n",
       "    </tr>\n",
       "    <tr>\n",
       "      <th>2</th>\n",
       "      <td>2</td>\n",
       "      <td>3</td>\n",
       "      <td>0x0002bda54cb772d040f779e88eb453cac0daa244</td>\n",
       "      <td>0</td>\n",
       "      <td>246194.54</td>\n",
       "      <td>2434.02</td>\n",
       "      <td>516729.30</td>\n",
       "      <td>2</td>\n",
       "      <td>10</td>\n",
       "      <td>0</td>\n",
       "      <td>...</td>\n",
       "      <td>0.000000</td>\n",
       "      <td>0.000000e+00</td>\n",
       "      <td>0.000000</td>\n",
       "      <td>0.0</td>\n",
       "      <td>0.0</td>\n",
       "      <td>0.0</td>\n",
       "      <td>0.0</td>\n",
       "      <td>8.0</td>\n",
       "      <td>NaN</td>\n",
       "      <td>XENON</td>\n",
       "    </tr>\n",
       "    <tr>\n",
       "      <th>3</th>\n",
       "      <td>3</td>\n",
       "      <td>4</td>\n",
       "      <td>0x00038e6ba2fd5c09aedb96697c8d7b8fa6632e5e</td>\n",
       "      <td>0</td>\n",
       "      <td>10219.60</td>\n",
       "      <td>15785.09</td>\n",
       "      <td>397555.90</td>\n",
       "      <td>25</td>\n",
       "      <td>9</td>\n",
       "      <td>0</td>\n",
       "      <td>...</td>\n",
       "      <td>100.000000</td>\n",
       "      <td>9.029231e+03</td>\n",
       "      <td>3804.076893</td>\n",
       "      <td>0.0</td>\n",
       "      <td>0.0</td>\n",
       "      <td>0.0</td>\n",
       "      <td>1.0</td>\n",
       "      <td>11.0</td>\n",
       "      <td>Raiden</td>\n",
       "      <td>XENON</td>\n",
       "    </tr>\n",
       "    <tr>\n",
       "      <th>4</th>\n",
       "      <td>4</td>\n",
       "      <td>5</td>\n",
       "      <td>0x00062d1dd1afb6fb02540ddad9cdebfe568e0d89</td>\n",
       "      <td>0</td>\n",
       "      <td>36.61</td>\n",
       "      <td>10707.77</td>\n",
       "      <td>382472.42</td>\n",
       "      <td>4598</td>\n",
       "      <td>20</td>\n",
       "      <td>1</td>\n",
       "      <td>...</td>\n",
       "      <td>0.000000</td>\n",
       "      <td>4.500000e+04</td>\n",
       "      <td>13726.659220</td>\n",
       "      <td>0.0</td>\n",
       "      <td>0.0</td>\n",
       "      <td>0.0</td>\n",
       "      <td>6.0</td>\n",
       "      <td>27.0</td>\n",
       "      <td>StatusNetwork</td>\n",
       "      <td>EOS</td>\n",
       "    </tr>\n",
       "  </tbody>\n",
       "</table>\n",
       "<p>5 rows × 51 columns</p>\n",
       "</div>"
      ],
      "text/plain": [
       "   Unnamed: 0  Index                                     Address  FLAG  \\\n",
       "0           0      1  0x00009277775ac7d0d59eaad8fee3d10ac6c805e8     0   \n",
       "1           1      2  0x0002b44ddb1476db43c868bd494422ee4c136fed     0   \n",
       "2           2      3  0x0002bda54cb772d040f779e88eb453cac0daa244     0   \n",
       "3           3      4  0x00038e6ba2fd5c09aedb96697c8d7b8fa6632e5e     0   \n",
       "4           4      5  0x00062d1dd1afb6fb02540ddad9cdebfe568e0d89     0   \n",
       "\n",
       "   Avg min between sent tnx  Avg min between received tnx  \\\n",
       "0                    844.26                       1093.71   \n",
       "1                  12709.07                       2958.44   \n",
       "2                 246194.54                       2434.02   \n",
       "3                  10219.60                      15785.09   \n",
       "4                     36.61                      10707.77   \n",
       "\n",
       "   Time Diff between first and last (Mins)  Sent tnx  Received Tnx  \\\n",
       "0                                704785.63       721            89   \n",
       "1                               1218216.73        94             8   \n",
       "2                                516729.30         2            10   \n",
       "3                                397555.90        25             9   \n",
       "4                                382472.42      4598            20   \n",
       "\n",
       "   Number of Created Contracts  ...   ERC20 min val sent   ERC20 max val sent  \\\n",
       "0                            0  ...             0.000000         1.683100e+07   \n",
       "1                            0  ...             2.260809         2.260809e+00   \n",
       "2                            0  ...             0.000000         0.000000e+00   \n",
       "3                            0  ...           100.000000         9.029231e+03   \n",
       "4                            1  ...             0.000000         4.500000e+04   \n",
       "\n",
       "    ERC20 avg val sent   ERC20 min val sent contract  \\\n",
       "0        271779.920000                           0.0   \n",
       "1             2.260809                           0.0   \n",
       "2             0.000000                           0.0   \n",
       "3          3804.076893                           0.0   \n",
       "4         13726.659220                           0.0   \n",
       "\n",
       "    ERC20 max val sent contract   ERC20 avg val sent contract  \\\n",
       "0                           0.0                           0.0   \n",
       "1                           0.0                           0.0   \n",
       "2                           0.0                           0.0   \n",
       "3                           0.0                           0.0   \n",
       "4                           0.0                           0.0   \n",
       "\n",
       "    ERC20 uniq sent token name   ERC20 uniq rec token name  \\\n",
       "0                         39.0                        57.0   \n",
       "1                          1.0                         7.0   \n",
       "2                          0.0                         8.0   \n",
       "3                          1.0                        11.0   \n",
       "4                          6.0                        27.0   \n",
       "\n",
       "    ERC20 most sent token type   ERC20_most_rec_token_type  \n",
       "0                    Cofoundit                   Numeraire  \n",
       "1               Livepeer Token              Livepeer Token  \n",
       "2                          NaN                       XENON  \n",
       "3                       Raiden                       XENON  \n",
       "4                StatusNetwork                         EOS  \n",
       "\n",
       "[5 rows x 51 columns]"
      ]
     },
     "execution_count": 3,
     "metadata": {},
     "output_type": "execute_result"
    }
   ],
   "source": [
    "df = pd.read_csv('dataset.csv')\n",
    "df.head()"
   ]
  },
  {
   "cell_type": "code",
   "execution_count": 4,
   "id": "f8f3c8ed-3652-4d0a-82b4-b809592ecad2",
   "metadata": {},
   "outputs": [
    {
     "data": {
      "text/plain": [
       "(9841, 51)"
      ]
     },
     "execution_count": 4,
     "metadata": {},
     "output_type": "execute_result"
    }
   ],
   "source": [
    "df.shape"
   ]
  },
  {
   "cell_type": "code",
   "execution_count": 5,
   "id": "2bbd88f4-1f15-4435-9b5b-5eadbd2e51ef",
   "metadata": {},
   "outputs": [
    {
     "data": {
      "text/plain": [
       "FLAG\n",
       "0    7662\n",
       "1    2179\n",
       "Name: count, dtype: int64"
      ]
     },
     "execution_count": 5,
     "metadata": {},
     "output_type": "execute_result"
    }
   ],
   "source": [
    "df.FLAG.value_counts()"
   ]
  },
  {
   "cell_type": "code",
   "execution_count": 6,
   "id": "c4af0ab3-d6f2-4dfc-a866-fe0af2693590",
   "metadata": {},
   "outputs": [
    {
     "name": "stdout",
     "output_type": "stream",
     "text": [
      "<class 'pandas.core.frame.DataFrame'>\n",
      "RangeIndex: 9841 entries, 0 to 9840\n",
      "Data columns (total 51 columns):\n",
      " #   Column                                                Non-Null Count  Dtype  \n",
      "---  ------                                                --------------  -----  \n",
      " 0   Unnamed: 0                                            9841 non-null   int64  \n",
      " 1   Index                                                 9841 non-null   int64  \n",
      " 2   Address                                               9841 non-null   object \n",
      " 3   FLAG                                                  9841 non-null   int64  \n",
      " 4   Avg min between sent tnx                              9841 non-null   float64\n",
      " 5   Avg min between received tnx                          9841 non-null   float64\n",
      " 6   Time Diff between first and last (Mins)               9841 non-null   float64\n",
      " 7   Sent tnx                                              9841 non-null   int64  \n",
      " 8   Received Tnx                                          9841 non-null   int64  \n",
      " 9   Number of Created Contracts                           9841 non-null   int64  \n",
      " 10  Unique Received From Addresses                        9841 non-null   int64  \n",
      " 11  Unique Sent To Addresses                              9841 non-null   int64  \n",
      " 12  min value received                                    9841 non-null   float64\n",
      " 13  max value received                                    9841 non-null   float64\n",
      " 14  avg val received                                      9841 non-null   float64\n",
      " 15  min val sent                                          9841 non-null   float64\n",
      " 16  max val sent                                          9841 non-null   float64\n",
      " 17  avg val sent                                          9841 non-null   float64\n",
      " 18  min value sent to contract                            9841 non-null   float64\n",
      " 19  max val sent to contract                              9841 non-null   float64\n",
      " 20  avg value sent to contract                            9841 non-null   float64\n",
      " 21  total transactions (including tnx to create contract  9841 non-null   int64  \n",
      " 22  total Ether sent                                      9841 non-null   float64\n",
      " 23  total ether received                                  9841 non-null   float64\n",
      " 24  total ether sent contracts                            9841 non-null   float64\n",
      " 25  total ether balance                                   9841 non-null   float64\n",
      " 26   Total ERC20 tnxs                                     9012 non-null   float64\n",
      " 27   ERC20 total Ether received                           9012 non-null   float64\n",
      " 28   ERC20 total ether sent                               9012 non-null   float64\n",
      " 29   ERC20 total Ether sent contract                      9012 non-null   float64\n",
      " 30   ERC20 uniq sent addr                                 9012 non-null   float64\n",
      " 31   ERC20 uniq rec addr                                  9012 non-null   float64\n",
      " 32   ERC20 uniq sent addr.1                               9012 non-null   float64\n",
      " 33   ERC20 uniq rec contract addr                         9012 non-null   float64\n",
      " 34   ERC20 avg time between sent tnx                      9012 non-null   float64\n",
      " 35   ERC20 avg time between rec tnx                       9012 non-null   float64\n",
      " 36   ERC20 avg time between rec 2 tnx                     9012 non-null   float64\n",
      " 37   ERC20 avg time between contract tnx                  9012 non-null   float64\n",
      " 38   ERC20 min val rec                                    9012 non-null   float64\n",
      " 39   ERC20 max val rec                                    9012 non-null   float64\n",
      " 40   ERC20 avg val rec                                    9012 non-null   float64\n",
      " 41   ERC20 min val sent                                   9012 non-null   float64\n",
      " 42   ERC20 max val sent                                   9012 non-null   float64\n",
      " 43   ERC20 avg val sent                                   9012 non-null   float64\n",
      " 44   ERC20 min val sent contract                          9012 non-null   float64\n",
      " 45   ERC20 max val sent contract                          9012 non-null   float64\n",
      " 46   ERC20 avg val sent contract                          9012 non-null   float64\n",
      " 47   ERC20 uniq sent token name                           9012 non-null   float64\n",
      " 48   ERC20 uniq rec token name                            9012 non-null   float64\n",
      " 49   ERC20 most sent token type                           7144 non-null   object \n",
      " 50   ERC20_most_rec_token_type                            8970 non-null   object \n",
      "dtypes: float64(39), int64(9), object(3)\n",
      "memory usage: 3.8+ MB\n"
     ]
    }
   ],
   "source": [
    "df.info()"
   ]
  },
  {
   "cell_type": "markdown",
   "id": "3d1bbd3d-5c53-48b6-ab1e-cd08851b7cc9",
   "metadata": {},
   "source": [
    "# Limpeza dos Dados"
   ]
  },
  {
   "cell_type": "code",
   "execution_count": 7,
   "id": "644b5bbd-a739-4682-bbca-9cb385670304",
   "metadata": {},
   "outputs": [
    {
     "data": {
      "text/plain": [
       "Index(['Unnamed: 0', 'Index', 'Address', 'FLAG', 'Avg min between sent tnx',\n",
       "       'Avg min between received tnx',\n",
       "       'Time Diff between first and last (Mins)', 'Sent tnx', 'Received Tnx',\n",
       "       'Number of Created Contracts', 'Unique Received From Addresses',\n",
       "       'Unique Sent To Addresses', 'min value received', 'max value received ',\n",
       "       'avg val received', 'min val sent', 'max val sent', 'avg val sent',\n",
       "       'min value sent to contract', 'max val sent to contract',\n",
       "       'avg value sent to contract',\n",
       "       'total transactions (including tnx to create contract',\n",
       "       'total Ether sent', 'total ether received',\n",
       "       'total ether sent contracts', 'total ether balance',\n",
       "       ' Total ERC20 tnxs', ' ERC20 total Ether received',\n",
       "       ' ERC20 total ether sent', ' ERC20 total Ether sent contract',\n",
       "       ' ERC20 uniq sent addr', ' ERC20 uniq rec addr',\n",
       "       ' ERC20 uniq sent addr.1', ' ERC20 uniq rec contract addr',\n",
       "       ' ERC20 avg time between sent tnx', ' ERC20 avg time between rec tnx',\n",
       "       ' ERC20 avg time between rec 2 tnx',\n",
       "       ' ERC20 avg time between contract tnx', ' ERC20 min val rec',\n",
       "       ' ERC20 max val rec', ' ERC20 avg val rec', ' ERC20 min val sent',\n",
       "       ' ERC20 max val sent', ' ERC20 avg val sent',\n",
       "       ' ERC20 min val sent contract', ' ERC20 max val sent contract',\n",
       "       ' ERC20 avg val sent contract', ' ERC20 uniq sent token name',\n",
       "       ' ERC20 uniq rec token name', ' ERC20 most sent token type',\n",
       "       ' ERC20_most_rec_token_type'],\n",
       "      dtype='object')"
      ]
     },
     "execution_count": 7,
     "metadata": {},
     "output_type": "execute_result"
    }
   ],
   "source": [
    "df.columns"
   ]
  },
  {
   "cell_type": "code",
   "execution_count": 8,
   "id": "eda1ad2a-b2e4-4c80-95ae-b579e58e78be",
   "metadata": {},
   "outputs": [],
   "source": [
    "df.columns = [x.lower() for x in df.columns]"
   ]
  },
  {
   "cell_type": "code",
   "execution_count": 9,
   "id": "a03ea82b-21d2-4f8e-a0a8-d14175220fa3",
   "metadata": {},
   "outputs": [],
   "source": [
    "cols_to_drop = [' erc20 most sent token type',\n",
    "                ' erc20_most_rec_token_type',\n",
    "                'address',\n",
    "                'index',\n",
    "                'unnamed: 0']"
   ]
  },
  {
   "cell_type": "code",
   "execution_count": 10,
   "id": "1b74a934-7eea-48a6-8bb1-8306831f850d",
   "metadata": {},
   "outputs": [],
   "source": [
    "atributos = [x for x in df.columns if (x != 'flag' and x not in cols_to_drop)]"
   ]
  },
  {
   "cell_type": "code",
   "execution_count": 11,
   "id": "0d28210d-de60-4a6c-8f85-0f1495557f05",
   "metadata": {},
   "outputs": [
    {
     "data": {
      "text/plain": [
       "['avg min between sent tnx',\n",
       " 'avg min between received tnx',\n",
       " 'time diff between first and last (mins)',\n",
       " 'sent tnx',\n",
       " 'received tnx',\n",
       " 'number of created contracts',\n",
       " 'unique received from addresses',\n",
       " 'unique sent to addresses',\n",
       " 'min value received',\n",
       " 'max value received ',\n",
       " 'avg val received',\n",
       " 'min val sent',\n",
       " 'max val sent',\n",
       " 'avg val sent',\n",
       " 'min value sent to contract',\n",
       " 'max val sent to contract',\n",
       " 'avg value sent to contract',\n",
       " 'total transactions (including tnx to create contract',\n",
       " 'total ether sent',\n",
       " 'total ether received',\n",
       " 'total ether sent contracts',\n",
       " 'total ether balance',\n",
       " ' total erc20 tnxs',\n",
       " ' erc20 total ether received',\n",
       " ' erc20 total ether sent',\n",
       " ' erc20 total ether sent contract',\n",
       " ' erc20 uniq sent addr',\n",
       " ' erc20 uniq rec addr',\n",
       " ' erc20 uniq sent addr.1',\n",
       " ' erc20 uniq rec contract addr',\n",
       " ' erc20 avg time between sent tnx',\n",
       " ' erc20 avg time between rec tnx',\n",
       " ' erc20 avg time between rec 2 tnx',\n",
       " ' erc20 avg time between contract tnx',\n",
       " ' erc20 min val rec',\n",
       " ' erc20 max val rec',\n",
       " ' erc20 avg val rec',\n",
       " ' erc20 min val sent',\n",
       " ' erc20 max val sent',\n",
       " ' erc20 avg val sent',\n",
       " ' erc20 min val sent contract',\n",
       " ' erc20 max val sent contract',\n",
       " ' erc20 avg val sent contract',\n",
       " ' erc20 uniq sent token name',\n",
       " ' erc20 uniq rec token name']"
      ]
     },
     "execution_count": 11,
     "metadata": {},
     "output_type": "execute_result"
    }
   ],
   "source": [
    "atributos"
   ]
  },
  {
   "cell_type": "code",
   "execution_count": 12,
   "id": "6540601b-f959-420b-aae6-62c5c1a4a3e5",
   "metadata": {},
   "outputs": [
    {
     "data": {
      "text/plain": [
       "unnamed: 0                                              9841\n",
       "index                                                   4729\n",
       "address                                                 9816\n",
       "flag                                                       2\n",
       "avg min between sent tnx                                5013\n",
       "avg min between received tnx                            6223\n",
       "time diff between first and last (mins)                 7810\n",
       "sent tnx                                                 641\n",
       "received tnx                                             727\n",
       "number of created contracts                               20\n",
       "unique received from addresses                           256\n",
       "unique sent to addresses                                 258\n",
       "min value received                                      4589\n",
       "max value received                                      6302\n",
       "avg val received                                        6767\n",
       "min val sent                                            4719\n",
       "max val sent                                            6647\n",
       "avg val sent                                            5854\n",
       "min value sent to contract                                 3\n",
       "max val sent to contract                                   4\n",
       "avg value sent to contract                                 4\n",
       "total transactions (including tnx to create contract     897\n",
       "total ether sent                                        5868\n",
       "total ether received                                    6728\n",
       "total ether sent contracts                                 4\n",
       "total ether balance                                     5717\n",
       " total erc20 tnxs                                        300\n",
       " erc20 total ether received                             3460\n",
       " erc20 total ether sent                                 1415\n",
       " erc20 total ether sent contract                          29\n",
       " erc20 uniq sent addr                                    107\n",
       " erc20 uniq rec addr                                     147\n",
       " erc20 uniq sent addr.1                                    4\n",
       " erc20 uniq rec contract addr                            123\n",
       " erc20 avg time between sent tnx                           1\n",
       " erc20 avg time between rec tnx                            1\n",
       " erc20 avg time between rec 2 tnx                          1\n",
       " erc20 avg time between contract tnx                       1\n",
       " erc20 min val rec                                      1276\n",
       " erc20 max val rec                                      2647\n",
       " erc20 avg val rec                                      3380\n",
       " erc20 min val sent                                      476\n",
       " erc20 max val sent                                     1130\n",
       " erc20 avg val sent                                     1309\n",
       " erc20 min val sent contract                               1\n",
       " erc20 max val sent contract                               1\n",
       " erc20 avg val sent contract                               1\n",
       " erc20 uniq sent token name                               70\n",
       " erc20 uniq rec token name                               121\n",
       " erc20 most sent token type                              304\n",
       " erc20_most_rec_token_type                               466\n",
       "dtype: int64"
      ]
     },
     "execution_count": 12,
     "metadata": {},
     "output_type": "execute_result"
    }
   ],
   "source": [
    "valores_unicos = df.nunique()\n",
    "valores_unicos"
   ]
  },
  {
   "cell_type": "code",
   "execution_count": 13,
   "id": "4b1ff8d3-ce01-4f9b-bf34-e34db72623f0",
   "metadata": {},
   "outputs": [],
   "source": [
    "atributos = [x for x in atributos if x in valores_unicos.loc[(valores_unicos > 1)]]"
   ]
  },
  {
   "cell_type": "code",
   "execution_count": 14,
   "id": "76f58fc1-fe82-4683-b268-2b061a601bbc",
   "metadata": {},
   "outputs": [
    {
     "name": "stdout",
     "output_type": "stream",
     "text": [
      "<class 'pandas.core.frame.DataFrame'>\n",
      "RangeIndex: 9841 entries, 0 to 9840\n",
      "Data columns (total 38 columns):\n",
      " #   Column                                                Non-Null Count  Dtype  \n",
      "---  ------                                                --------------  -----  \n",
      " 0   avg min between sent tnx                              9841 non-null   float64\n",
      " 1   avg min between received tnx                          9841 non-null   float64\n",
      " 2   time diff between first and last (mins)               9841 non-null   float64\n",
      " 3   sent tnx                                              9841 non-null   int64  \n",
      " 4   received tnx                                          9841 non-null   int64  \n",
      " 5   number of created contracts                           9841 non-null   int64  \n",
      " 6   unique received from addresses                        9841 non-null   int64  \n",
      " 7   unique sent to addresses                              9841 non-null   int64  \n",
      " 8   min value received                                    9841 non-null   float64\n",
      " 9   max value received                                    9841 non-null   float64\n",
      " 10  avg val received                                      9841 non-null   float64\n",
      " 11  min val sent                                          9841 non-null   float64\n",
      " 12  max val sent                                          9841 non-null   float64\n",
      " 13  avg val sent                                          9841 non-null   float64\n",
      " 14  min value sent to contract                            9841 non-null   float64\n",
      " 15  max val sent to contract                              9841 non-null   float64\n",
      " 16  avg value sent to contract                            9841 non-null   float64\n",
      " 17  total transactions (including tnx to create contract  9841 non-null   int64  \n",
      " 18  total ether sent                                      9841 non-null   float64\n",
      " 19  total ether received                                  9841 non-null   float64\n",
      " 20  total ether sent contracts                            9841 non-null   float64\n",
      " 21  total ether balance                                   9841 non-null   float64\n",
      " 22   total erc20 tnxs                                     9012 non-null   float64\n",
      " 23   erc20 total ether received                           9012 non-null   float64\n",
      " 24   erc20 total ether sent                               9012 non-null   float64\n",
      " 25   erc20 total ether sent contract                      9012 non-null   float64\n",
      " 26   erc20 uniq sent addr                                 9012 non-null   float64\n",
      " 27   erc20 uniq rec addr                                  9012 non-null   float64\n",
      " 28   erc20 uniq sent addr.1                               9012 non-null   float64\n",
      " 29   erc20 uniq rec contract addr                         9012 non-null   float64\n",
      " 30   erc20 min val rec                                    9012 non-null   float64\n",
      " 31   erc20 max val rec                                    9012 non-null   float64\n",
      " 32   erc20 avg val rec                                    9012 non-null   float64\n",
      " 33   erc20 min val sent                                   9012 non-null   float64\n",
      " 34   erc20 max val sent                                   9012 non-null   float64\n",
      " 35   erc20 avg val sent                                   9012 non-null   float64\n",
      " 36   erc20 uniq sent token name                           9012 non-null   float64\n",
      " 37   erc20 uniq rec token name                            9012 non-null   float64\n",
      "dtypes: float64(32), int64(6)\n",
      "memory usage: 2.9 MB\n"
     ]
    }
   ],
   "source": [
    "df[atributos].info()"
   ]
  },
  {
   "cell_type": "markdown",
   "id": "5377b767-d839-4e12-a297-912b102f36f9",
   "metadata": {},
   "source": [
    "# Criação do Pipeline de Pré-Processamento"
   ]
  },
  {
   "cell_type": "code",
   "execution_count": 15,
   "id": "a8cf4448-d456-4139-b0da-ca900205900b",
   "metadata": {},
   "outputs": [],
   "source": [
    "class PipeSteps(BaseEstimator, TransformerMixin):\n",
    "    def __init__(self, columns=[]):\n",
    "        self.columns = columns\n",
    "\n",
    "    def fit(self, X, y = None):\n",
    "        return self\n",
    "\n",
    "    def transform(self, X):\n",
    "        X = X.copy()\n",
    "        return X"
   ]
  },
  {
   "cell_type": "code",
   "execution_count": 16,
   "id": "842c597c-20da-4c4a-901c-7089111dde58",
   "metadata": {},
   "outputs": [],
   "source": [
    "class SelecionaColunas(PipeSteps):\n",
    "    def transform(self, X):\n",
    "        X = X.copy()\n",
    "        return X[self.columns]"
   ]
  },
  {
   "cell_type": "code",
   "execution_count": 17,
   "id": "048f7186-97b1-4992-977d-55c553930c57",
   "metadata": {},
   "outputs": [],
   "source": [
    "class PreenchendoDados(PipeSteps):\n",
    "    def fit(self, X, y = None):\n",
    "        self.means = {col: X[col].mean() for col in self.columns}\n",
    "        return self\n",
    "\n",
    "    def transform(self, X):\n",
    "        X = X.copy()\n",
    "\n",
    "        for col in self.columns:\n",
    "            X[col] = X[col].fillna(self.means[col])\n",
    "\n",
    "        return X"
   ]
  },
  {
   "cell_type": "code",
   "execution_count": 18,
   "id": "3eb37d06-d092-4d6f-b4a8-a5ebcd470708",
   "metadata": {},
   "outputs": [],
   "source": [
    "class PadronizaDados(PipeSteps):\n",
    "    def fit(self, X, y = None):\n",
    "        self.scaler = StandardScaler()\n",
    "        self.scaler.fit(X[self.columns])\n",
    "        return self\n",
    "\n",
    "    def transform(self, X):\n",
    "        X = X.copy()\n",
    "        X[self.columns] = self.scaler.transform(X[self.columns])\n",
    "        return X"
   ]
  },
  {
   "cell_type": "code",
   "execution_count": 19,
   "id": "54d28e34-685b-4a14-beae-9fa216390d41",
   "metadata": {},
   "outputs": [],
   "source": [
    "class ObtemDados(PipeSteps):\n",
    "    def transform(self, X):\n",
    "        X = X.copy()\n",
    "        return X.values"
   ]
  },
  {
   "cell_type": "code",
   "execution_count": 20,
   "id": "7d2c770e-c0bf-4b7a-88cd-92374af2105c",
   "metadata": {},
   "outputs": [],
   "source": [
    "pipe_preprocessamento = Pipeline([('feature_selection', SelecionaColunas(atributos)),\n",
    "                                  ('fill_missing', PreenchendoDados(atributos)),\n",
    "                                  ('standard_scaling', PadronizaDados(atributos)),\n",
    "                                  ('returnValues', ObtemDados())])"
   ]
  },
  {
   "cell_type": "code",
   "execution_count": 21,
   "id": "7a990240-541a-491e-b1f5-8aee910fbc99",
   "metadata": {},
   "outputs": [],
   "source": [
    "X = df[atributos]"
   ]
  },
  {
   "cell_type": "code",
   "execution_count": 22,
   "id": "f01d4a09-d879-4ea0-909c-54d8f18ed8ef",
   "metadata": {},
   "outputs": [],
   "source": [
    "y = df['flag']"
   ]
  },
  {
   "cell_type": "code",
   "execution_count": 23,
   "id": "89be986e-a649-4dc4-8141-5f0ede94169a",
   "metadata": {},
   "outputs": [],
   "source": [
    "y = to_categorical(y)"
   ]
  },
  {
   "cell_type": "code",
   "execution_count": 24,
   "id": "169ace75-2eea-42b2-9468-9c28a214ba20",
   "metadata": {},
   "outputs": [],
   "source": [
    "x_train, x_test, y_train, y_test = train_test_split(X, y, test_size=0.3, random_state=42)"
   ]
  },
  {
   "cell_type": "code",
   "execution_count": 25,
   "id": "1fa7672c-52e0-4c44-a337-88db5455b1e7",
   "metadata": {},
   "outputs": [],
   "source": [
    "x_treino = pipe_preprocessamento.fit_transform(x_train)\n",
    "x_teste = pipe_preprocessamento.fit_transform(x_test)"
   ]
  },
  {
   "cell_type": "code",
   "execution_count": 26,
   "id": "4a467145-d0f8-41cb-a93f-9aa8d40ea39b",
   "metadata": {},
   "outputs": [
    {
     "data": {
      "text/plain": [
       "array([[-0.23259911, -0.35751318, -0.67960935, ..., -0.01331307,\n",
       "        -0.21172682, -0.2313969 ],\n",
       "       [-0.23259911,  0.0138933 , -0.06181513, ..., -0.01331307,\n",
       "        -0.21172682, -0.17365057],\n",
       "       [-0.23259911, -0.34333968, -0.67254633, ..., -0.01331307,\n",
       "        -0.21172682, -0.2313969 ],\n",
       "       ...,\n",
       "       [-0.23259911, -0.35751318, -0.67960389, ..., -0.01331307,\n",
       "        -0.21172682, -0.28914324],\n",
       "       [-0.22473065, -0.35751318, -0.67858957, ..., -0.01331307,\n",
       "        -0.21172682, -0.28914324],\n",
       "       [-0.23250192, -0.35750828, -0.67958981, ..., -0.01331307,\n",
       "        -0.21172682, -0.28914324]])"
      ]
     },
     "execution_count": 26,
     "metadata": {},
     "output_type": "execute_result"
    }
   ],
   "source": [
    "x_treino"
   ]
  },
  {
   "cell_type": "code",
   "execution_count": 27,
   "id": "18cc1dd0-8451-4ca5-a813-2b14ee1f8028",
   "metadata": {},
   "outputs": [
    {
     "data": {
      "text/plain": [
       "array([[-0.17363074, -0.2389954 ,  0.35405294, ..., -0.04690525,\n",
       "        -0.22359372,  0.04877518],\n",
       "       [-0.1218577 , -0.29065065, -0.63739158, ..., -0.04690525,\n",
       "        -0.22359372, -0.27878033],\n",
       "       [-0.23932993, -0.3248651 , -0.66701725, ..., -0.04690525,\n",
       "        -0.22359372, -0.36066921],\n",
       "       ...,\n",
       "       [-0.24621445, -0.32484836, -0.66797958, ..., -0.04690525,\n",
       "        -0.22359372, -0.36066921],\n",
       "       [-0.24629279, -0.3246091 , -0.66391201, ..., -0.04690525,\n",
       "        -0.22359372, -0.27878033],\n",
       "       [-0.2452496 , -0.3248651 , -0.66777809, ..., -0.04690525,\n",
       "        -0.22359372, -0.36066921]])"
      ]
     },
     "execution_count": 27,
     "metadata": {},
     "output_type": "execute_result"
    }
   ],
   "source": [
    "x_teste"
   ]
  },
  {
   "cell_type": "markdown",
   "id": "b0648df9-82df-4b0e-b8c5-967554364e09",
   "metadata": {},
   "source": [
    "# Construção do Modelo de Deep Learning"
   ]
  },
  {
   "cell_type": "code",
   "execution_count": 28,
   "id": "a5699339-0db7-405c-bdee-d61b678815e9",
   "metadata": {},
   "outputs": [],
   "source": [
    "modelo = Sequential()"
   ]
  },
  {
   "cell_type": "code",
   "execution_count": 29,
   "id": "2b983bdb-a46f-4d1e-8ed5-41cc56a8852a",
   "metadata": {},
   "outputs": [
    {
     "name": "stderr",
     "output_type": "stream",
     "text": [
      "WARNING: All log messages before absl::InitializeLog() is called are written to STDERR\n",
      "I0000 00:00:1726485593.970789    6117 cuda_executor.cc:1015] successful NUMA node read from SysFS had negative value (-1), but there must be at least one NUMA node, so returning NUMA node zero. See more at https://github.com/torvalds/linux/blob/v6.0/Documentation/ABI/testing/sysfs-bus-pci#L344-L355\n",
      "I0000 00:00:1726485594.140090    6117 cuda_executor.cc:1015] successful NUMA node read from SysFS had negative value (-1), but there must be at least one NUMA node, so returning NUMA node zero. See more at https://github.com/torvalds/linux/blob/v6.0/Documentation/ABI/testing/sysfs-bus-pci#L344-L355\n",
      "I0000 00:00:1726485594.140325    6117 cuda_executor.cc:1015] successful NUMA node read from SysFS had negative value (-1), but there must be at least one NUMA node, so returning NUMA node zero. See more at https://github.com/torvalds/linux/blob/v6.0/Documentation/ABI/testing/sysfs-bus-pci#L344-L355\n",
      "I0000 00:00:1726485594.142454    6117 cuda_executor.cc:1015] successful NUMA node read from SysFS had negative value (-1), but there must be at least one NUMA node, so returning NUMA node zero. See more at https://github.com/torvalds/linux/blob/v6.0/Documentation/ABI/testing/sysfs-bus-pci#L344-L355\n",
      "I0000 00:00:1726485594.142693    6117 cuda_executor.cc:1015] successful NUMA node read from SysFS had negative value (-1), but there must be at least one NUMA node, so returning NUMA node zero. See more at https://github.com/torvalds/linux/blob/v6.0/Documentation/ABI/testing/sysfs-bus-pci#L344-L355\n",
      "I0000 00:00:1726485594.142849    6117 cuda_executor.cc:1015] successful NUMA node read from SysFS had negative value (-1), but there must be at least one NUMA node, so returning NUMA node zero. See more at https://github.com/torvalds/linux/blob/v6.0/Documentation/ABI/testing/sysfs-bus-pci#L344-L355\n",
      "I0000 00:00:1726485594.214123    6117 cuda_executor.cc:1015] successful NUMA node read from SysFS had negative value (-1), but there must be at least one NUMA node, so returning NUMA node zero. See more at https://github.com/torvalds/linux/blob/v6.0/Documentation/ABI/testing/sysfs-bus-pci#L344-L355\n",
      "I0000 00:00:1726485594.214332    6117 cuda_executor.cc:1015] successful NUMA node read from SysFS had negative value (-1), but there must be at least one NUMA node, so returning NUMA node zero. See more at https://github.com/torvalds/linux/blob/v6.0/Documentation/ABI/testing/sysfs-bus-pci#L344-L355\n",
      "I0000 00:00:1726485594.214503    6117 cuda_executor.cc:1015] successful NUMA node read from SysFS had negative value (-1), but there must be at least one NUMA node, so returning NUMA node zero. See more at https://github.com/torvalds/linux/blob/v6.0/Documentation/ABI/testing/sysfs-bus-pci#L344-L355\n"
     ]
    }
   ],
   "source": [
    "modelo.add(Input(shape = (len(atributos),)))\n",
    "modelo.add(Dense(len(atributos), activation='relu'))\n",
    "modelo.add(Dense(20, activation='relu'))\n",
    "modelo.add(Dense(5, activation='relu'))\n",
    "modelo.add(Dense(2, activation='softmax'))"
   ]
  },
  {
   "cell_type": "code",
   "execution_count": 33,
   "id": "71c33bcf-e511-4094-ab75-e9faa7070944",
   "metadata": {},
   "outputs": [],
   "source": [
    "modelo.compile(optimizer='adam', loss = 'categorical_crossentropy', metrics=['accuracy'])"
   ]
  },
  {
   "cell_type": "code",
   "execution_count": 34,
   "id": "e19881d9-3694-412a-a481-5bb93a036725",
   "metadata": {},
   "outputs": [
    {
     "data": {
      "text/html": [
       "<pre style=\"white-space:pre;overflow-x:auto;line-height:normal;font-family:Menlo,'DejaVu Sans Mono',consolas,'Courier New',monospace\"><span style=\"font-weight: bold\">Model: \"sequential\"</span>\n",
       "</pre>\n"
      ],
      "text/plain": [
       "\u001b[1mModel: \"sequential\"\u001b[0m\n"
      ]
     },
     "metadata": {},
     "output_type": "display_data"
    },
    {
     "data": {
      "text/html": [
       "<pre style=\"white-space:pre;overflow-x:auto;line-height:normal;font-family:Menlo,'DejaVu Sans Mono',consolas,'Courier New',monospace\">┏━━━━━━━━━━━━━━━━━━━━━━━━━━━━━━━━━┳━━━━━━━━━━━━━━━━━━━━━━━━┳━━━━━━━━━━━━━━━┓\n",
       "┃<span style=\"font-weight: bold\"> Layer (type)                    </span>┃<span style=\"font-weight: bold\"> Output Shape           </span>┃<span style=\"font-weight: bold\">       Param # </span>┃\n",
       "┡━━━━━━━━━━━━━━━━━━━━━━━━━━━━━━━━━╇━━━━━━━━━━━━━━━━━━━━━━━━╇━━━━━━━━━━━━━━━┩\n",
       "│ dense (<span style=\"color: #0087ff; text-decoration-color: #0087ff\">Dense</span>)                   │ (<span style=\"color: #00d7ff; text-decoration-color: #00d7ff\">None</span>, <span style=\"color: #00af00; text-decoration-color: #00af00\">38</span>)             │         <span style=\"color: #00af00; text-decoration-color: #00af00\">1,482</span> │\n",
       "├─────────────────────────────────┼────────────────────────┼───────────────┤\n",
       "│ dense_1 (<span style=\"color: #0087ff; text-decoration-color: #0087ff\">Dense</span>)                 │ (<span style=\"color: #00d7ff; text-decoration-color: #00d7ff\">None</span>, <span style=\"color: #00af00; text-decoration-color: #00af00\">20</span>)             │           <span style=\"color: #00af00; text-decoration-color: #00af00\">780</span> │\n",
       "├─────────────────────────────────┼────────────────────────┼───────────────┤\n",
       "│ dense_2 (<span style=\"color: #0087ff; text-decoration-color: #0087ff\">Dense</span>)                 │ (<span style=\"color: #00d7ff; text-decoration-color: #00d7ff\">None</span>, <span style=\"color: #00af00; text-decoration-color: #00af00\">5</span>)              │           <span style=\"color: #00af00; text-decoration-color: #00af00\">105</span> │\n",
       "├─────────────────────────────────┼────────────────────────┼───────────────┤\n",
       "│ dense_3 (<span style=\"color: #0087ff; text-decoration-color: #0087ff\">Dense</span>)                 │ (<span style=\"color: #00d7ff; text-decoration-color: #00d7ff\">None</span>, <span style=\"color: #00af00; text-decoration-color: #00af00\">2</span>)              │            <span style=\"color: #00af00; text-decoration-color: #00af00\">12</span> │\n",
       "└─────────────────────────────────┴────────────────────────┴───────────────┘\n",
       "</pre>\n"
      ],
      "text/plain": [
       "┏━━━━━━━━━━━━━━━━━━━━━━━━━━━━━━━━━┳━━━━━━━━━━━━━━━━━━━━━━━━┳━━━━━━━━━━━━━━━┓\n",
       "┃\u001b[1m \u001b[0m\u001b[1mLayer (type)                   \u001b[0m\u001b[1m \u001b[0m┃\u001b[1m \u001b[0m\u001b[1mOutput Shape          \u001b[0m\u001b[1m \u001b[0m┃\u001b[1m \u001b[0m\u001b[1m      Param #\u001b[0m\u001b[1m \u001b[0m┃\n",
       "┡━━━━━━━━━━━━━━━━━━━━━━━━━━━━━━━━━╇━━━━━━━━━━━━━━━━━━━━━━━━╇━━━━━━━━━━━━━━━┩\n",
       "│ dense (\u001b[38;5;33mDense\u001b[0m)                   │ (\u001b[38;5;45mNone\u001b[0m, \u001b[38;5;34m38\u001b[0m)             │         \u001b[38;5;34m1,482\u001b[0m │\n",
       "├─────────────────────────────────┼────────────────────────┼───────────────┤\n",
       "│ dense_1 (\u001b[38;5;33mDense\u001b[0m)                 │ (\u001b[38;5;45mNone\u001b[0m, \u001b[38;5;34m20\u001b[0m)             │           \u001b[38;5;34m780\u001b[0m │\n",
       "├─────────────────────────────────┼────────────────────────┼───────────────┤\n",
       "│ dense_2 (\u001b[38;5;33mDense\u001b[0m)                 │ (\u001b[38;5;45mNone\u001b[0m, \u001b[38;5;34m5\u001b[0m)              │           \u001b[38;5;34m105\u001b[0m │\n",
       "├─────────────────────────────────┼────────────────────────┼───────────────┤\n",
       "│ dense_3 (\u001b[38;5;33mDense\u001b[0m)                 │ (\u001b[38;5;45mNone\u001b[0m, \u001b[38;5;34m2\u001b[0m)              │            \u001b[38;5;34m12\u001b[0m │\n",
       "└─────────────────────────────────┴────────────────────────┴───────────────┘\n"
      ]
     },
     "metadata": {},
     "output_type": "display_data"
    },
    {
     "data": {
      "text/html": [
       "<pre style=\"white-space:pre;overflow-x:auto;line-height:normal;font-family:Menlo,'DejaVu Sans Mono',consolas,'Courier New',monospace\"><span style=\"font-weight: bold\"> Total params: </span><span style=\"color: #00af00; text-decoration-color: #00af00\">2,379</span> (9.29 KB)\n",
       "</pre>\n"
      ],
      "text/plain": [
       "\u001b[1m Total params: \u001b[0m\u001b[38;5;34m2,379\u001b[0m (9.29 KB)\n"
      ]
     },
     "metadata": {},
     "output_type": "display_data"
    },
    {
     "data": {
      "text/html": [
       "<pre style=\"white-space:pre;overflow-x:auto;line-height:normal;font-family:Menlo,'DejaVu Sans Mono',consolas,'Courier New',monospace\"><span style=\"font-weight: bold\"> Trainable params: </span><span style=\"color: #00af00; text-decoration-color: #00af00\">2,379</span> (9.29 KB)\n",
       "</pre>\n"
      ],
      "text/plain": [
       "\u001b[1m Trainable params: \u001b[0m\u001b[38;5;34m2,379\u001b[0m (9.29 KB)\n"
      ]
     },
     "metadata": {},
     "output_type": "display_data"
    },
    {
     "data": {
      "text/html": [
       "<pre style=\"white-space:pre;overflow-x:auto;line-height:normal;font-family:Menlo,'DejaVu Sans Mono',consolas,'Courier New',monospace\"><span style=\"font-weight: bold\"> Non-trainable params: </span><span style=\"color: #00af00; text-decoration-color: #00af00\">0</span> (0.00 B)\n",
       "</pre>\n"
      ],
      "text/plain": [
       "\u001b[1m Non-trainable params: \u001b[0m\u001b[38;5;34m0\u001b[0m (0.00 B)\n"
      ]
     },
     "metadata": {},
     "output_type": "display_data"
    }
   ],
   "source": [
    "modelo.summary()"
   ]
  },
  {
   "cell_type": "markdown",
   "id": "790a427f-8c66-4e2d-b942-4f793b58a229",
   "metadata": {},
   "source": [
    "# Treinamento e Avaliação do Modelo"
   ]
  },
  {
   "cell_type": "code",
   "execution_count": 35,
   "id": "3c138126-13b0-4203-8a3c-b6a73bc0bdaf",
   "metadata": {},
   "outputs": [
    {
     "name": "stdout",
     "output_type": "stream",
     "text": [
      "Epoch 1/10\n"
     ]
    },
    {
     "name": "stderr",
     "output_type": "stream",
     "text": [
      "WARNING: All log messages before absl::InitializeLog() is called are written to STDERR\n",
      "I0000 00:00:1726485628.932837    6420 service.cc:146] XLA service 0x716368006660 initialized for platform CUDA (this does not guarantee that XLA will be used). Devices:\n",
      "I0000 00:00:1726485628.932862    6420 service.cc:154]   StreamExecutor device (0): NVIDIA GeForce RTX 3060, Compute Capability 8.6\n"
     ]
    },
    {
     "name": "stdout",
     "output_type": "stream",
     "text": [
      "\u001b[1m171/216\u001b[0m \u001b[32m━━━━━━━━━━━━━━━\u001b[0m\u001b[37m━━━━━\u001b[0m \u001b[1m0s\u001b[0m 887us/step - accuracy: 0.7615 - loss: 0.5296"
     ]
    },
    {
     "name": "stderr",
     "output_type": "stream",
     "text": [
      "I0000 00:00:1726485630.491236    6420 device_compiler.h:188] Compiled cluster using XLA!  This line is logged at most once for the lifetime of the process.\n"
     ]
    },
    {
     "name": "stdout",
     "output_type": "stream",
     "text": [
      "\u001b[1m216/216\u001b[0m \u001b[32m━━━━━━━━━━━━━━━━━━━━\u001b[0m\u001b[37m\u001b[0m \u001b[1m5s\u001b[0m 10ms/step - accuracy: 0.7685 - loss: 0.5153 - val_accuracy: 0.8527 - val_loss: 0.3827\n",
      "Epoch 2/10\n",
      "\u001b[1m216/216\u001b[0m \u001b[32m━━━━━━━━━━━━━━━━━━━━\u001b[0m\u001b[37m\u001b[0m \u001b[1m0s\u001b[0m 1ms/step - accuracy: 0.8621 - loss: 0.3247 - val_accuracy: 0.8639 - val_loss: 0.2990\n",
      "Epoch 3/10\n",
      "\u001b[1m216/216\u001b[0m \u001b[32m━━━━━━━━━━━━━━━━━━━━\u001b[0m\u001b[37m\u001b[0m \u001b[1m0s\u001b[0m 1ms/step - accuracy: 0.8718 - loss: 0.2670 - val_accuracy: 0.8764 - val_loss: 0.2633\n",
      "Epoch 4/10\n",
      "\u001b[1m216/216\u001b[0m \u001b[32m━━━━━━━━━━━━━━━━━━━━\u001b[0m\u001b[37m\u001b[0m \u001b[1m0s\u001b[0m 1ms/step - accuracy: 0.9136 - loss: 0.2421 - val_accuracy: 0.8798 - val_loss: 0.2729\n",
      "Epoch 5/10\n",
      "\u001b[1m216/216\u001b[0m \u001b[32m━━━━━━━━━━━━━━━━━━━━\u001b[0m\u001b[37m\u001b[0m \u001b[1m0s\u001b[0m 1ms/step - accuracy: 0.9165 - loss: 0.2167 - val_accuracy: 0.8801 - val_loss: 0.2827\n",
      "Epoch 6/10\n",
      "\u001b[1m216/216\u001b[0m \u001b[32m━━━━━━━━━━━━━━━━━━━━\u001b[0m\u001b[37m\u001b[0m \u001b[1m0s\u001b[0m 1ms/step - accuracy: 0.9380 - loss: 0.1866 - val_accuracy: 0.9357 - val_loss: 0.2613\n",
      "Epoch 7/10\n",
      "\u001b[1m216/216\u001b[0m \u001b[32m━━━━━━━━━━━━━━━━━━━━\u001b[0m\u001b[37m\u001b[0m \u001b[1m0s\u001b[0m 2ms/step - accuracy: 0.9532 - loss: 0.1590 - val_accuracy: 0.9397 - val_loss: 0.2788\n",
      "Epoch 8/10\n",
      "\u001b[1m216/216\u001b[0m \u001b[32m━━━━━━━━━━━━━━━━━━━━\u001b[0m\u001b[37m\u001b[0m \u001b[1m0s\u001b[0m 1ms/step - accuracy: 0.9493 - loss: 0.1517 - val_accuracy: 0.9407 - val_loss: 0.3177\n",
      "Epoch 9/10\n",
      "\u001b[1m216/216\u001b[0m \u001b[32m━━━━━━━━━━━━━━━━━━━━\u001b[0m\u001b[37m\u001b[0m \u001b[1m0s\u001b[0m 1ms/step - accuracy: 0.9585 - loss: 0.1250 - val_accuracy: 0.8920 - val_loss: 0.3684\n",
      "Epoch 10/10\n",
      "\u001b[1m216/216\u001b[0m \u001b[32m━━━━━━━━━━━━━━━━━━━━\u001b[0m\u001b[37m\u001b[0m \u001b[1m0s\u001b[0m 1ms/step - accuracy: 0.9602 - loss: 0.1197 - val_accuracy: 0.9451 - val_loss: 0.3149\n",
      "CPU times: user 9.37 s, sys: 681 ms, total: 10 s\n",
      "Wall time: 7.5 s\n"
     ]
    },
    {
     "data": {
      "text/plain": [
       "<keras.src.callbacks.history.History at 0x71648bfd99d0>"
      ]
     },
     "execution_count": 35,
     "metadata": {},
     "output_type": "execute_result"
    }
   ],
   "source": [
    "%%time\n",
    "modelo.fit(x_treino, y_train, validation_data=(x_teste, y_test), epochs=10)"
   ]
  },
  {
   "cell_type": "code",
   "execution_count": 36,
   "id": "a318de98-e621-4b6e-b184-e864c773b64d",
   "metadata": {},
   "outputs": [
    {
     "name": "stdout",
     "output_type": "stream",
     "text": [
      "\u001b[1m93/93\u001b[0m \u001b[32m━━━━━━━━━━━━━━━━━━━━\u001b[0m\u001b[37m\u001b[0m \u001b[1m1s\u001b[0m 3ms/step\n"
     ]
    }
   ],
   "source": [
    "previsoes_teste = [np.argmax(x) for x in modelo.predict(x_teste)]"
   ]
  },
  {
   "cell_type": "code",
   "execution_count": 37,
   "id": "06e7adac-4eae-4eff-b8e0-7b618b391fbf",
   "metadata": {},
   "outputs": [],
   "source": [
    "acc = metrics.accuracy_score(previsoes_teste, [np.argmax(x) for x in y_test])"
   ]
  },
  {
   "cell_type": "code",
   "execution_count": 38,
   "id": "a9551e34-c1c1-4531-9703-9aaac9d26330",
   "metadata": {},
   "outputs": [
    {
     "name": "stdout",
     "output_type": "stream",
     "text": [
      "Acurácia nos Dados de Teste: 94.51%\n"
     ]
    }
   ],
   "source": [
    "print(f'Acurácia nos Dados de Teste: {acc:.2%}')"
   ]
  },
  {
   "cell_type": "code",
   "execution_count": 41,
   "id": "545f68e4-e364-4ffa-bef0-7db4a5fabb0f",
   "metadata": {},
   "outputs": [
    {
     "name": "stdout",
     "output_type": "stream",
     "text": [
      "\u001b[1m93/93\u001b[0m \u001b[32m━━━━━━━━━━━━━━━━━━━━\u001b[0m\u001b[37m\u001b[0m \u001b[1m0s\u001b[0m 831us/step\n"
     ]
    }
   ],
   "source": [
    "auc = metrics.roc_auc_score([np.argmax(x) for x in y_test], modelo.predict(x_teste)[:,1])"
   ]
  },
  {
   "cell_type": "code",
   "execution_count": 42,
   "id": "cd5f412d-c541-42f9-87ce-56adcbbcbd4e",
   "metadata": {},
   "outputs": [
    {
     "name": "stdout",
     "output_type": "stream",
     "text": [
      "AUC nos Dados de Teste: 0.97\n"
     ]
    }
   ],
   "source": [
    "print(f'AUC nos Dados de Teste: {auc:,.2f}')"
   ]
  },
  {
   "cell_type": "markdown",
   "id": "5d367b85-000c-40e7-bb19-777463aaa49b",
   "metadata": {},
   "source": [
    "# Deploy do Modelo e Detecção de Fraudes em Novas Transações com Criptomoedas"
   ]
  },
  {
   "cell_type": "code",
   "execution_count": 44,
   "id": "ad4cfbcb-4080-4511-a289-faa2a22652db",
   "metadata": {},
   "outputs": [],
   "source": [
    "novos_dados = pd.read_csv('novos_dados.csv')"
   ]
  },
  {
   "cell_type": "code",
   "execution_count": 45,
   "id": "f83ea077-12b1-483c-9627-de05fb2f0bc4",
   "metadata": {},
   "outputs": [
    {
     "data": {
      "text/html": [
       "<div>\n",
       "<style scoped>\n",
       "    .dataframe tbody tr th:only-of-type {\n",
       "        vertical-align: middle;\n",
       "    }\n",
       "\n",
       "    .dataframe tbody tr th {\n",
       "        vertical-align: top;\n",
       "    }\n",
       "\n",
       "    .dataframe thead th {\n",
       "        text-align: right;\n",
       "    }\n",
       "</style>\n",
       "<table border=\"1\" class=\"dataframe\">\n",
       "  <thead>\n",
       "    <tr style=\"text-align: right;\">\n",
       "      <th></th>\n",
       "      <th>avg min between sent tnx</th>\n",
       "      <th>avg min between received tnx</th>\n",
       "      <th>time diff between first and last (mins)</th>\n",
       "      <th>sent tnx</th>\n",
       "      <th>received tnx</th>\n",
       "      <th>number of created contracts</th>\n",
       "      <th>unique received from addresses</th>\n",
       "      <th>unique sent to addresses</th>\n",
       "      <th>min value received</th>\n",
       "      <th>max value received</th>\n",
       "      <th>...</th>\n",
       "      <th>erc20 uniq sent addr.1</th>\n",
       "      <th>erc20 uniq rec contract addr</th>\n",
       "      <th>erc20 min val rec</th>\n",
       "      <th>erc20 max val rec</th>\n",
       "      <th>erc20 avg val rec</th>\n",
       "      <th>erc20 min val sent</th>\n",
       "      <th>erc20 max val sent</th>\n",
       "      <th>erc20 avg val sent</th>\n",
       "      <th>erc20 uniq sent token name</th>\n",
       "      <th>erc20 uniq rec token name</th>\n",
       "    </tr>\n",
       "  </thead>\n",
       "  <tbody>\n",
       "    <tr>\n",
       "      <th>0</th>\n",
       "      <td>2570.59</td>\n",
       "      <td>3336.01</td>\n",
       "      <td>30572.7</td>\n",
       "      <td>8</td>\n",
       "      <td>3</td>\n",
       "      <td>0</td>\n",
       "      <td>2</td>\n",
       "      <td>4</td>\n",
       "      <td>0.1</td>\n",
       "      <td>40.0</td>\n",
       "      <td>...</td>\n",
       "      <td>0.0</td>\n",
       "      <td>1.0</td>\n",
       "      <td>600.0</td>\n",
       "      <td>600.0</td>\n",
       "      <td>600.0</td>\n",
       "      <td>0.0</td>\n",
       "      <td>0.0</td>\n",
       "      <td>0.0</td>\n",
       "      <td>0.0</td>\n",
       "      <td>1.0</td>\n",
       "    </tr>\n",
       "  </tbody>\n",
       "</table>\n",
       "<p>1 rows × 38 columns</p>\n",
       "</div>"
      ],
      "text/plain": [
       "   avg min between sent tnx  avg min between received tnx  \\\n",
       "0                   2570.59                       3336.01   \n",
       "\n",
       "   time diff between first and last (mins)  sent tnx  received tnx  \\\n",
       "0                                  30572.7         8             3   \n",
       "\n",
       "   number of created contracts  unique received from addresses  \\\n",
       "0                            0                               2   \n",
       "\n",
       "   unique sent to addresses  min value received  max value received   ...  \\\n",
       "0                         4                 0.1                 40.0  ...   \n",
       "\n",
       "    erc20 uniq sent addr.1   erc20 uniq rec contract addr   erc20 min val rec  \\\n",
       "0                      0.0                            1.0               600.0   \n",
       "\n",
       "    erc20 max val rec   erc20 avg val rec   erc20 min val sent  \\\n",
       "0               600.0               600.0                  0.0   \n",
       "\n",
       "    erc20 max val sent   erc20 avg val sent   erc20 uniq sent token name  \\\n",
       "0                  0.0                  0.0                          0.0   \n",
       "\n",
       "    erc20 uniq rec token name  \n",
       "0                         1.0  \n",
       "\n",
       "[1 rows x 38 columns]"
      ]
     },
     "execution_count": 45,
     "metadata": {},
     "output_type": "execute_result"
    }
   ],
   "source": [
    "novos_dados"
   ]
  },
  {
   "cell_type": "code",
   "execution_count": 46,
   "id": "ae8e8cbe-51fc-40a9-82bd-b4d7ed62a9ae",
   "metadata": {},
   "outputs": [],
   "source": [
    "novos_dados_transformados = pipe_preprocessamento.transform(novos_dados)"
   ]
  },
  {
   "cell_type": "code",
   "execution_count": 47,
   "id": "ff83293e-035d-4eb7-9786-b2375bda4a5f",
   "metadata": {},
   "outputs": [
    {
     "data": {
      "text/plain": [
       "array([[-0.13252061, -0.18865691, -0.57264058, -0.12789237, -0.16265097,\n",
       "        -0.02199271, -0.08231218, -0.0952209 , -0.15677407, -0.05655525,\n",
       "        -0.15983239, -0.03152224, -0.03659254, -0.10903682, -0.02469659,\n",
       "        -0.02469659, -0.02469659, -0.19266588, -0.02319948, -0.07191711,\n",
       "        -0.02469659,  0.01702814, -0.08288235, -0.02069519, -0.05078136,\n",
       "        -0.02014615, -0.06532301, -0.07564193, -0.05823323, -0.27671472,\n",
       "         0.01012491, -0.02056233, -0.02284285, -0.04304813, -0.03587653,\n",
       "        -0.04690525, -0.22359372, -0.27878033]])"
      ]
     },
     "execution_count": 47,
     "metadata": {},
     "output_type": "execute_result"
    }
   ],
   "source": [
    "novos_dados_transformados"
   ]
  },
  {
   "cell_type": "code",
   "execution_count": 48,
   "id": "a7e8654f-f004-4b49-8967-b742c0bf6ec4",
   "metadata": {},
   "outputs": [
    {
     "name": "stdout",
     "output_type": "stream",
     "text": [
      "\u001b[1m1/1\u001b[0m \u001b[32m━━━━━━━━━━━━━━━━━━━━\u001b[0m\u001b[37m\u001b[0m \u001b[1m0s\u001b[0m 187ms/step\n"
     ]
    }
   ],
   "source": [
    "previsao = [np.argmax(x) for x in modelo.predict(novos_dados_transformados)]"
   ]
  },
  {
   "cell_type": "code",
   "execution_count": 49,
   "id": "e34ef2ce-941e-460d-ae5e-f032b826c029",
   "metadata": {},
   "outputs": [
    {
     "data": {
      "text/plain": [
       "list"
      ]
     },
     "execution_count": 49,
     "metadata": {},
     "output_type": "execute_result"
    }
   ],
   "source": [
    "type(previsao)"
   ]
  },
  {
   "cell_type": "code",
   "execution_count": 52,
   "id": "225c0192-9387-49b4-aef6-c976821e1fe2",
   "metadata": {},
   "outputs": [
    {
     "name": "stdout",
     "output_type": "stream",
     "text": [
      "Não é uma fraude\n"
     ]
    }
   ],
   "source": [
    "print('Não é uma fraude') if previsao[0] == 0 else print('É uma fraude. Acione a verificação humana')"
   ]
  }
 ],
 "metadata": {
  "kernelspec": {
   "display_name": "Python 3 (ipykernel)",
   "language": "python",
   "name": "python3"
  },
  "language_info": {
   "codemirror_mode": {
    "name": "ipython",
    "version": 3
   },
   "file_extension": ".py",
   "mimetype": "text/x-python",
   "name": "python",
   "nbconvert_exporter": "python",
   "pygments_lexer": "ipython3",
   "version": "3.12.5"
  }
 },
 "nbformat": 4,
 "nbformat_minor": 5
}
